{
 "cells": [
  {
   "cell_type": "code",
   "execution_count": 26,
   "metadata": {},
   "outputs": [],
   "source": [
    "from gtts import gTTS\n",
    "import speech_recognition as sr\n",
    "import pyaudio\n",
    "import os\n",
    "from playsound import playsound \n",
    "import gi"
   ]
  },
  {
   "cell_type": "code",
   "execution_count": 28,
   "metadata": {},
   "outputs": [],
   "source": [
    "def to_audio(text):\n",
    "    language = \"en\"\n",
    "    speech = gTTS(text= text, lang= language, slow= False)\n",
    "    file = \"reply.mp3\"\n",
    "    speech.save(file)\n",
    "#     playsound(\"/home/ujjwal/1.mp3\")"
   ]
  },
  {
   "cell_type": "code",
   "execution_count": 32,
   "metadata": {},
   "outputs": [
    {
     "name": "stdout",
     "output_type": "stream",
     "text": [
      "Hello Speak something\n",
      "what is your name what is your name\n"
     ]
    }
   ],
   "source": [
    "def get_audio():\n",
    "    r = sr.Recognizer()\n",
    "#     Sample_rate=48000\n",
    "#     Chunk_size= 2048\n",
    "    with sr.Microphone(device_index=8) as source:\n",
    "        r.adjust_for_ambient_noise(source,duration=7)\n",
    "        print(\"Hello Speak something\")\n",
    "        r.energy_threshold += 280\n",
    "        l = r.listen(source, timeout=20, phrase_time_limit=60)\n",
    "        \n",
    "        said = \"\"\n",
    "        try:\n",
    "            s = r.recognize_google(l,language='en-GB')\n",
    "            return s\n",
    "        except sr.RequestError as e:\n",
    "            print(\"Could not request results from Google Speech Recognition service; {0}\".format( ase))\n",
    "        except Exception as ex:\n",
    "            print(\"Google Speech Recognition could not understand audio\")\n",
    "        \n",
    "# to_audio(\"Hello Speak something\")\n",
    "\n",
    "text = get_audio()\n",
    "print(text)\n",
    "\n",
    "if \"what is your name\" in text:\n",
    "    to_audio(\"hi my name is Ujjwal\")\n"
   ]
  },
  {
   "cell_type": "code",
   "execution_count": 10,
   "metadata": {},
   "outputs": [],
   "source": [
    "# try:\n",
    "#     playsound(file)\n",
    "# except Exception as e:\n",
    "#     print(\"Can't play \"+ str(e))"
   ]
  },
  {
   "cell_type": "code",
   "execution_count": null,
   "metadata": {},
   "outputs": [],
   "source": [
    "# import pyaudio\n",
    "# pa = pyaudio.PyAudio()\n",
    "# pa.get_default_input_device_info()"
   ]
  }
 ],
 "metadata": {
  "kernelspec": {
   "display_name": "Python 3",
   "language": "python",
   "name": "python3"
  },
  "language_info": {
   "codemirror_mode": {
    "name": "ipython",
    "version": 3
   },
   "file_extension": ".py",
   "mimetype": "text/x-python",
   "name": "python",
   "nbconvert_exporter": "python",
   "pygments_lexer": "ipython3",
   "version": "3.7.3"
  }
 },
 "nbformat": 4,
 "nbformat_minor": 2
}
